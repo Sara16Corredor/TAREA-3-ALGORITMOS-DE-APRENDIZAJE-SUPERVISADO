{
 "cells": [
  {
   "cell_type": "code",
   "execution_count": 421,
   "id": "27744de5-4cf4-4383-b35b-3b9306a18151",
   "metadata": {},
   "outputs": [
    {
     "name": "stdout",
     "output_type": "stream",
     "text": [
      "UNAD\n",
      "Sara Lucía Corredor Naranjo\n",
      "Regresión Logística\n",
      "Conjunto de Datos de Vehiculos\n"
     ]
    }
   ],
   "source": [
    "print (\"UNAD\")\n",
    "print (\"Sara Lucía Corredor Naranjo\")\n",
    "print (\"Regresión Logística\")\n",
    "print (\"Conjunto de Datos de Vehiculos\")"
   ]
  },
  {
   "cell_type": "code",
   "execution_count": 422,
   "id": "4426adc1-3325-4408-b508-de80091047a6",
   "metadata": {},
   "outputs": [
    {
     "name": "stdout",
     "output_type": "stream",
     "text": [
      "PASOS DE LA ACTIVIDAD\n",
      "1. Realizar un análisis exploratorio de los datos para identificar relaciones entre variables, valores atípicos, tendencias, etc.\n"
     ]
    }
   ],
   "source": [
    "print (\"PASOS DE LA ACTIVIDAD\")\n",
    "print (\"1. Realizar un análisis exploratorio de los datos para identificar relaciones entre variables, valores atípicos, tendencias, etc.\")"
   ]
  },
  {
   "cell_type": "code",
   "execution_count": 423,
   "id": "b29a8118-6be2-4231-8f65-f5b5e50fe97d",
   "metadata": {},
   "outputs": [],
   "source": [
    "#Cargar Librerias necesarias\n",
    "import pandas as pd \n",
    "import numpy as np\n",
    "import seaborn as sns\n",
    "import matplotlib.pyplot as plt \n",
    "\n",
    "#Librerias para implementar modelos de ciencia de datos\n",
    "from sklearn.model_selection import train_test_split\n",
    "from sklearn.preprocessing import LabelEncoder, StandardScaler\n",
    "from sklearn.linear_model import LogisticRegression\n",
    "from sklearn.pipeline import Pipeline\n",
    "from sklearn.feature_selection import SelectKBest, f_classif\n",
    "from sklearn.metrics import classification_report, confusion_matrix, ConfusionMatrixDisplay, roc_curve, auc\n",
    "\n",
    "# Ajustar un modelo de regresión\n",
    "model = LinearRegression()"
   ]
  },
  {
   "cell_type": "code",
   "execution_count": 424,
   "id": "6d3c1c93-0ec0-49c6-ae78-3afcd3c49287",
   "metadata": {},
   "outputs": [],
   "source": [
    "#Lectura de datos en Python y lo cargamos en la variable Datos\n",
    "\n",
    "Datos = pd.read_csv('C:/UNAD/cardata.csv')"
   ]
  },
  {
   "cell_type": "code",
   "execution_count": 425,
   "id": "e7b90352-f908-402d-a0d1-a773f3672df1",
   "metadata": {},
   "outputs": [
    {
     "data": {
      "text/html": [
       "<div>\n",
       "<style scoped>\n",
       "    .dataframe tbody tr th:only-of-type {\n",
       "        vertical-align: middle;\n",
       "    }\n",
       "\n",
       "    .dataframe tbody tr th {\n",
       "        vertical-align: top;\n",
       "    }\n",
       "\n",
       "    .dataframe thead th {\n",
       "        text-align: right;\n",
       "    }\n",
       "</style>\n",
       "<table border=\"1\" class=\"dataframe\">\n",
       "  <thead>\n",
       "    <tr style=\"text-align: right;\">\n",
       "      <th></th>\n",
       "      <th>Car_Name</th>\n",
       "      <th>Year</th>\n",
       "      <th>Selling_Price</th>\n",
       "      <th>Present_Price</th>\n",
       "      <th>Kms_Driven</th>\n",
       "      <th>Fuel_Type</th>\n",
       "      <th>Seller_Type</th>\n",
       "      <th>Transmission</th>\n",
       "      <th>Owner</th>\n",
       "    </tr>\n",
       "  </thead>\n",
       "  <tbody>\n",
       "    <tr>\n",
       "      <th>0</th>\n",
       "      <td>ritz</td>\n",
       "      <td>2014</td>\n",
       "      <td>3.35</td>\n",
       "      <td>5.59</td>\n",
       "      <td>27000</td>\n",
       "      <td>Petrol</td>\n",
       "      <td>Dealer</td>\n",
       "      <td>Manual</td>\n",
       "      <td>0</td>\n",
       "    </tr>\n",
       "    <tr>\n",
       "      <th>1</th>\n",
       "      <td>sx4</td>\n",
       "      <td>2013</td>\n",
       "      <td>4.75</td>\n",
       "      <td>9.54</td>\n",
       "      <td>43000</td>\n",
       "      <td>Diesel</td>\n",
       "      <td>Dealer</td>\n",
       "      <td>Manual</td>\n",
       "      <td>0</td>\n",
       "    </tr>\n",
       "    <tr>\n",
       "      <th>2</th>\n",
       "      <td>ciaz</td>\n",
       "      <td>2017</td>\n",
       "      <td>7.25</td>\n",
       "      <td>9.85</td>\n",
       "      <td>6900</td>\n",
       "      <td>Petrol</td>\n",
       "      <td>Dealer</td>\n",
       "      <td>Manual</td>\n",
       "      <td>0</td>\n",
       "    </tr>\n",
       "    <tr>\n",
       "      <th>3</th>\n",
       "      <td>wagon r</td>\n",
       "      <td>2011</td>\n",
       "      <td>2.85</td>\n",
       "      <td>4.15</td>\n",
       "      <td>5200</td>\n",
       "      <td>Petrol</td>\n",
       "      <td>Dealer</td>\n",
       "      <td>Manual</td>\n",
       "      <td>0</td>\n",
       "    </tr>\n",
       "    <tr>\n",
       "      <th>4</th>\n",
       "      <td>swift</td>\n",
       "      <td>2014</td>\n",
       "      <td>4.60</td>\n",
       "      <td>6.87</td>\n",
       "      <td>42450</td>\n",
       "      <td>Diesel</td>\n",
       "      <td>Dealer</td>\n",
       "      <td>Manual</td>\n",
       "      <td>0</td>\n",
       "    </tr>\n",
       "    <tr>\n",
       "      <th>5</th>\n",
       "      <td>vitara brezza</td>\n",
       "      <td>2018</td>\n",
       "      <td>9.25</td>\n",
       "      <td>9.83</td>\n",
       "      <td>2071</td>\n",
       "      <td>Diesel</td>\n",
       "      <td>Dealer</td>\n",
       "      <td>Manual</td>\n",
       "      <td>0</td>\n",
       "    </tr>\n",
       "    <tr>\n",
       "      <th>6</th>\n",
       "      <td>ciaz</td>\n",
       "      <td>2015</td>\n",
       "      <td>6.75</td>\n",
       "      <td>8.12</td>\n",
       "      <td>18796</td>\n",
       "      <td>Petrol</td>\n",
       "      <td>Dealer</td>\n",
       "      <td>Manual</td>\n",
       "      <td>0</td>\n",
       "    </tr>\n",
       "    <tr>\n",
       "      <th>7</th>\n",
       "      <td>s cross</td>\n",
       "      <td>2015</td>\n",
       "      <td>6.50</td>\n",
       "      <td>8.61</td>\n",
       "      <td>33429</td>\n",
       "      <td>Diesel</td>\n",
       "      <td>Dealer</td>\n",
       "      <td>Manual</td>\n",
       "      <td>0</td>\n",
       "    </tr>\n",
       "    <tr>\n",
       "      <th>8</th>\n",
       "      <td>ciaz</td>\n",
       "      <td>2016</td>\n",
       "      <td>8.75</td>\n",
       "      <td>8.89</td>\n",
       "      <td>20273</td>\n",
       "      <td>Diesel</td>\n",
       "      <td>Dealer</td>\n",
       "      <td>Manual</td>\n",
       "      <td>0</td>\n",
       "    </tr>\n",
       "    <tr>\n",
       "      <th>9</th>\n",
       "      <td>ciaz</td>\n",
       "      <td>2015</td>\n",
       "      <td>7.45</td>\n",
       "      <td>8.92</td>\n",
       "      <td>42367</td>\n",
       "      <td>Diesel</td>\n",
       "      <td>Dealer</td>\n",
       "      <td>Manual</td>\n",
       "      <td>0</td>\n",
       "    </tr>\n",
       "    <tr>\n",
       "      <th>10</th>\n",
       "      <td>alto 800</td>\n",
       "      <td>2017</td>\n",
       "      <td>2.85</td>\n",
       "      <td>3.60</td>\n",
       "      <td>2135</td>\n",
       "      <td>Petrol</td>\n",
       "      <td>Dealer</td>\n",
       "      <td>Manual</td>\n",
       "      <td>0</td>\n",
       "    </tr>\n",
       "    <tr>\n",
       "      <th>11</th>\n",
       "      <td>ciaz</td>\n",
       "      <td>2015</td>\n",
       "      <td>6.85</td>\n",
       "      <td>10.38</td>\n",
       "      <td>51000</td>\n",
       "      <td>Diesel</td>\n",
       "      <td>Dealer</td>\n",
       "      <td>Manual</td>\n",
       "      <td>0</td>\n",
       "    </tr>\n",
       "    <tr>\n",
       "      <th>12</th>\n",
       "      <td>ciaz</td>\n",
       "      <td>2015</td>\n",
       "      <td>7.50</td>\n",
       "      <td>9.94</td>\n",
       "      <td>15000</td>\n",
       "      <td>Petrol</td>\n",
       "      <td>Dealer</td>\n",
       "      <td>Automatic</td>\n",
       "      <td>0</td>\n",
       "    </tr>\n",
       "    <tr>\n",
       "      <th>13</th>\n",
       "      <td>ertiga</td>\n",
       "      <td>2015</td>\n",
       "      <td>6.10</td>\n",
       "      <td>7.71</td>\n",
       "      <td>26000</td>\n",
       "      <td>Petrol</td>\n",
       "      <td>Dealer</td>\n",
       "      <td>Manual</td>\n",
       "      <td>0</td>\n",
       "    </tr>\n",
       "    <tr>\n",
       "      <th>14</th>\n",
       "      <td>dzire</td>\n",
       "      <td>2009</td>\n",
       "      <td>2.25</td>\n",
       "      <td>7.21</td>\n",
       "      <td>77427</td>\n",
       "      <td>Petrol</td>\n",
       "      <td>Dealer</td>\n",
       "      <td>Manual</td>\n",
       "      <td>0</td>\n",
       "    </tr>\n",
       "    <tr>\n",
       "      <th>15</th>\n",
       "      <td>ertiga</td>\n",
       "      <td>2016</td>\n",
       "      <td>7.75</td>\n",
       "      <td>10.79</td>\n",
       "      <td>43000</td>\n",
       "      <td>Diesel</td>\n",
       "      <td>Dealer</td>\n",
       "      <td>Manual</td>\n",
       "      <td>0</td>\n",
       "    </tr>\n",
       "    <tr>\n",
       "      <th>16</th>\n",
       "      <td>ertiga</td>\n",
       "      <td>2015</td>\n",
       "      <td>7.25</td>\n",
       "      <td>10.79</td>\n",
       "      <td>41678</td>\n",
       "      <td>Diesel</td>\n",
       "      <td>Dealer</td>\n",
       "      <td>Manual</td>\n",
       "      <td>0</td>\n",
       "    </tr>\n",
       "    <tr>\n",
       "      <th>17</th>\n",
       "      <td>ertiga</td>\n",
       "      <td>2016</td>\n",
       "      <td>7.75</td>\n",
       "      <td>10.79</td>\n",
       "      <td>43000</td>\n",
       "      <td>Diesel</td>\n",
       "      <td>Dealer</td>\n",
       "      <td>Manual</td>\n",
       "      <td>0</td>\n",
       "    </tr>\n",
       "    <tr>\n",
       "      <th>18</th>\n",
       "      <td>wagon r</td>\n",
       "      <td>2015</td>\n",
       "      <td>3.25</td>\n",
       "      <td>5.09</td>\n",
       "      <td>35500</td>\n",
       "      <td>CNG</td>\n",
       "      <td>Dealer</td>\n",
       "      <td>Manual</td>\n",
       "      <td>0</td>\n",
       "    </tr>\n",
       "    <tr>\n",
       "      <th>19</th>\n",
       "      <td>sx4</td>\n",
       "      <td>2010</td>\n",
       "      <td>2.65</td>\n",
       "      <td>7.98</td>\n",
       "      <td>41442</td>\n",
       "      <td>Petrol</td>\n",
       "      <td>Dealer</td>\n",
       "      <td>Manual</td>\n",
       "      <td>0</td>\n",
       "    </tr>\n",
       "  </tbody>\n",
       "</table>\n",
       "</div>"
      ],
      "text/plain": [
       "         Car_Name  Year  Selling_Price  Present_Price  Kms_Driven Fuel_Type  \\\n",
       "0            ritz  2014           3.35           5.59       27000    Petrol   \n",
       "1             sx4  2013           4.75           9.54       43000    Diesel   \n",
       "2            ciaz  2017           7.25           9.85        6900    Petrol   \n",
       "3         wagon r  2011           2.85           4.15        5200    Petrol   \n",
       "4           swift  2014           4.60           6.87       42450    Diesel   \n",
       "5   vitara brezza  2018           9.25           9.83        2071    Diesel   \n",
       "6            ciaz  2015           6.75           8.12       18796    Petrol   \n",
       "7         s cross  2015           6.50           8.61       33429    Diesel   \n",
       "8            ciaz  2016           8.75           8.89       20273    Diesel   \n",
       "9            ciaz  2015           7.45           8.92       42367    Diesel   \n",
       "10       alto 800  2017           2.85           3.60        2135    Petrol   \n",
       "11           ciaz  2015           6.85          10.38       51000    Diesel   \n",
       "12           ciaz  2015           7.50           9.94       15000    Petrol   \n",
       "13         ertiga  2015           6.10           7.71       26000    Petrol   \n",
       "14          dzire  2009           2.25           7.21       77427    Petrol   \n",
       "15         ertiga  2016           7.75          10.79       43000    Diesel   \n",
       "16         ertiga  2015           7.25          10.79       41678    Diesel   \n",
       "17         ertiga  2016           7.75          10.79       43000    Diesel   \n",
       "18        wagon r  2015           3.25           5.09       35500       CNG   \n",
       "19            sx4  2010           2.65           7.98       41442    Petrol   \n",
       "\n",
       "   Seller_Type Transmission  Owner  \n",
       "0       Dealer       Manual      0  \n",
       "1       Dealer       Manual      0  \n",
       "2       Dealer       Manual      0  \n",
       "3       Dealer       Manual      0  \n",
       "4       Dealer       Manual      0  \n",
       "5       Dealer       Manual      0  \n",
       "6       Dealer       Manual      0  \n",
       "7       Dealer       Manual      0  \n",
       "8       Dealer       Manual      0  \n",
       "9       Dealer       Manual      0  \n",
       "10      Dealer       Manual      0  \n",
       "11      Dealer       Manual      0  \n",
       "12      Dealer    Automatic      0  \n",
       "13      Dealer       Manual      0  \n",
       "14      Dealer       Manual      0  \n",
       "15      Dealer       Manual      0  \n",
       "16      Dealer       Manual      0  \n",
       "17      Dealer       Manual      0  \n",
       "18      Dealer       Manual      0  \n",
       "19      Dealer       Manual      0  "
      ]
     },
     "execution_count": 425,
     "metadata": {},
     "output_type": "execute_result"
    }
   ],
   "source": [
    "#Realizar lectura de datos para el análisis exploratorio\n",
    "\n",
    "Datos.head(20)"
   ]
  },
  {
   "cell_type": "code",
   "execution_count": 426,
   "id": "917bec21-e9d1-4831-b214-2ff138b18a20",
   "metadata": {},
   "outputs": [
    {
     "data": {
      "text/html": [
       "<div>\n",
       "<style scoped>\n",
       "    .dataframe tbody tr th:only-of-type {\n",
       "        vertical-align: middle;\n",
       "    }\n",
       "\n",
       "    .dataframe tbody tr th {\n",
       "        vertical-align: top;\n",
       "    }\n",
       "\n",
       "    .dataframe thead th {\n",
       "        text-align: right;\n",
       "    }\n",
       "</style>\n",
       "<table border=\"1\" class=\"dataframe\">\n",
       "  <thead>\n",
       "    <tr style=\"text-align: right;\">\n",
       "      <th></th>\n",
       "      <th>Year</th>\n",
       "      <th>Selling_Price</th>\n",
       "      <th>Present_Price</th>\n",
       "      <th>Kms_Driven</th>\n",
       "      <th>Owner</th>\n",
       "    </tr>\n",
       "  </thead>\n",
       "  <tbody>\n",
       "    <tr>\n",
       "      <th>count</th>\n",
       "      <td>301.000000</td>\n",
       "      <td>301.000000</td>\n",
       "      <td>301.000000</td>\n",
       "      <td>301.000000</td>\n",
       "      <td>301.000000</td>\n",
       "    </tr>\n",
       "    <tr>\n",
       "      <th>mean</th>\n",
       "      <td>2013.627907</td>\n",
       "      <td>4.661296</td>\n",
       "      <td>7.628472</td>\n",
       "      <td>36947.205980</td>\n",
       "      <td>0.043189</td>\n",
       "    </tr>\n",
       "    <tr>\n",
       "      <th>std</th>\n",
       "      <td>2.891554</td>\n",
       "      <td>5.082812</td>\n",
       "      <td>8.644115</td>\n",
       "      <td>38886.883882</td>\n",
       "      <td>0.247915</td>\n",
       "    </tr>\n",
       "    <tr>\n",
       "      <th>min</th>\n",
       "      <td>2003.000000</td>\n",
       "      <td>0.100000</td>\n",
       "      <td>0.320000</td>\n",
       "      <td>500.000000</td>\n",
       "      <td>0.000000</td>\n",
       "    </tr>\n",
       "    <tr>\n",
       "      <th>25%</th>\n",
       "      <td>2012.000000</td>\n",
       "      <td>0.900000</td>\n",
       "      <td>1.200000</td>\n",
       "      <td>15000.000000</td>\n",
       "      <td>0.000000</td>\n",
       "    </tr>\n",
       "    <tr>\n",
       "      <th>50%</th>\n",
       "      <td>2014.000000</td>\n",
       "      <td>3.600000</td>\n",
       "      <td>6.400000</td>\n",
       "      <td>32000.000000</td>\n",
       "      <td>0.000000</td>\n",
       "    </tr>\n",
       "    <tr>\n",
       "      <th>75%</th>\n",
       "      <td>2016.000000</td>\n",
       "      <td>6.000000</td>\n",
       "      <td>9.900000</td>\n",
       "      <td>48767.000000</td>\n",
       "      <td>0.000000</td>\n",
       "    </tr>\n",
       "    <tr>\n",
       "      <th>max</th>\n",
       "      <td>2018.000000</td>\n",
       "      <td>35.000000</td>\n",
       "      <td>92.600000</td>\n",
       "      <td>500000.000000</td>\n",
       "      <td>3.000000</td>\n",
       "    </tr>\n",
       "  </tbody>\n",
       "</table>\n",
       "</div>"
      ],
      "text/plain": [
       "              Year  Selling_Price  Present_Price     Kms_Driven       Owner\n",
       "count   301.000000     301.000000     301.000000     301.000000  301.000000\n",
       "mean   2013.627907       4.661296       7.628472   36947.205980    0.043189\n",
       "std       2.891554       5.082812       8.644115   38886.883882    0.247915\n",
       "min    2003.000000       0.100000       0.320000     500.000000    0.000000\n",
       "25%    2012.000000       0.900000       1.200000   15000.000000    0.000000\n",
       "50%    2014.000000       3.600000       6.400000   32000.000000    0.000000\n",
       "75%    2016.000000       6.000000       9.900000   48767.000000    0.000000\n",
       "max    2018.000000      35.000000      92.600000  500000.000000    3.000000"
      ]
     },
     "execution_count": 426,
     "metadata": {},
     "output_type": "execute_result"
    }
   ],
   "source": [
    "#Descripcion de los datos\n",
    "\n",
    "Datos.describe()"
   ]
  },
  {
   "cell_type": "code",
   "execution_count": 427,
   "id": "fc58dc9f-afbf-4621-831a-3c4f17e14caa",
   "metadata": {},
   "outputs": [
    {
     "data": {
      "text/plain": [
       "Text(0.5, 1.0, 'Identificacion de Datos Faltantes y Atípicos')"
      ]
     },
     "execution_count": 427,
     "metadata": {},
     "output_type": "execute_result"
    },
    {
     "data": {
      "image/png": "[encoded data removed]",
      "text/plain": [
       "<Figure size 600x300 with 1 Axes>"
      ]
     },
     "metadata": {},
     "output_type": "display_data"
    }
   ],
   "source": [
    "#Identificar los datos Faltantes y Atípicos\n",
    "\n",
    "plt.figure(figsize=(6, 3))\n",
    "sns.boxplot(x=Datos['Selling_Price'])\n",
    "plt.title('Identificacion de Datos Faltantes y Atípicos', fontsize=10)"
   ]
  },
  {
   "cell_type": "code",
   "execution_count": 428,
   "id": "b07d5d37-a98b-4f47-8ed4-72457c61a4c9",
   "metadata": {},
   "outputs": [
    {
     "data": {
      "text/plain": [
       "Text(0.5, 1.0, 'Identificacion de Datos Faltantes y Atípicos')"
      ]
     },
     "execution_count": 428,
     "metadata": {},
     "output_type": "execute_result"
    },
    {
     "data": {
      "image/png": "[encoded data removed]",
      "text/plain": [
       "<Figure size 600x300 with 1 Axes>"
      ]
     },
     "metadata": {},
     "output_type": "display_data"
    }
   ],
   "source": [
    "#Identificar los datos Faltantes y Atípicos\n",
    "\n",
    "plt.figure(figsize=(6, 3))\n",
    "sns.boxplot(x=Datos['Selling_Price'])\n",
    "plt.title('Identificacion de Datos Faltantes y Atípicos', fontsize=10)"
   ]
  },
  {
   "cell_type": "code",
   "execution_count": 429,
   "id": "0083880e-e6c2-4527-a54e-b7248b47e175",
   "metadata": {},
   "outputs": [
    {
     "name": "stdout",
     "output_type": "stream",
     "text": [
      "2. Procesar los datos limpiándolos, tratando valores faltantes y transformandolos segun sea necesario.\n"
     ]
    }
   ],
   "source": [
    "print (\"2. Procesar los datos limpiándolos, tratando valores faltantes y transformandolos segun sea necesario.\")"
   ]
  },
  {
   "cell_type": "code",
   "execution_count": 430,
   "id": "f4fef3b7-ddfb-46ac-ad41-d02abd18f02b",
   "metadata": {},
   "outputs": [
    {
     "name": "stdout",
     "output_type": "stream",
     "text": [
      "Cantidad de Registros con cero en Nombre:  0\n",
      "Cantidad de Registros con cero en Año:  0\n",
      "Cantidad de Registros con cero en Precio vendido:  0\n",
      "Cantidad de Registros con cero en Km:  0\n",
      "Cantidad de Registros con cero en Combustible:  0\n",
      "Cantidad de Registros con cero en Seller type:  0\n",
      "Cantidad de Registros con cero en Transmision:  0\n",
      "Cantidad de Registros con cero en Dueño:  290\n"
     ]
    }
   ],
   "source": [
    "#Revision de datos faltantes\n",
    "\n",
    "print(\"Cantidad de Registros con cero en Nombre: \",Datos['Car_Name'].isin([0]).sum())\n",
    "print(\"Cantidad de Registros con cero en Año: \",Datos['Year'].isin([0]).sum())\n",
    "print(\"Cantidad de Registros con cero en Precio vendido: \",Datos['Selling_Price'].isin([0]).sum())\n",
    "print(\"Cantidad de Registros con cero en Km: \",Datos['Kms_Driven'].isin([0]).sum())\n",
    "print(\"Cantidad de Registros con cero en Combustible: \",Datos['Fuel_Type'].isin([0]).sum())\n",
    "print(\"Cantidad de Registros con cero en Seller type: \",Datos['Seller_Type'].isin([0]).sum())\n",
    "print(\"Cantidad de Registros con cero en Transmision: \",Datos['Transmission'].isin([0]).sum())\n",
    "print(\"Cantidad de Registros con cero en Dueño: \",Datos['Owner'].isin([0]).sum())"
   ]
  },
  {
   "cell_type": "code",
   "execution_count": 431,
   "id": "c75a6b3f-6aa8-43e0-bca6-70218faf064c",
   "metadata": {},
   "outputs": [],
   "source": [
    "#Reemplazar todos los ceros con el valor promedio de la columna\n",
    "\n",
    "Datos['Owner']=Datos['Owner'].replace(0,Datos['Owner'].mean())"
   ]
  },
  {
   "cell_type": "code",
   "execution_count": 432,
   "id": "1986590c-eab8-4a2f-a0f2-c51a972c2682",
   "metadata": {},
   "outputs": [
    {
     "name": "stdout",
     "output_type": "stream",
     "text": [
      "Cantidad de Registros con cero en Dueño:  0\n"
     ]
    }
   ],
   "source": [
    "#Revision nuevamente de datos faltantes\n",
    "\n",
    "print(\"Cantidad de Registros con cero en Dueño: \",Datos['Owner'].isin([0]).sum())"
   ]
  },
  {
   "cell_type": "code",
   "execution_count": 433,
   "id": "83cfbfc7-7bb6-45dc-ba38-c540f307c240",
   "metadata": {},
   "outputs": [
    {
     "data": {
      "text/plain": [
       "Text(0.5, 1.0, 'Identificacion de Datos Atípicos')"
      ]
     },
     "execution_count": 433,
     "metadata": {},
     "output_type": "execute_result"
    },
    {
     "data": {
      "image/png": "[encoded data removed]",
      "text/plain": [
       "<Figure size 600x300 with 1 Axes>"
      ]
     },
     "metadata": {},
     "output_type": "display_data"
    }
   ],
   "source": [
    "#Identificacion de datos Atipicos\n",
    "\n",
    "plt.figure(figsize=(6, 3))\n",
    "sns.boxplot(x=Datos['Selling_Price'])\n",
    "plt.title('Identificacion de Datos Atípicos', fontsize=10)"
   ]
  },
  {
   "cell_type": "code",
   "execution_count": 434,
   "id": "b900286b-b7b9-4dcb-a755-e6a803878674",
   "metadata": {},
   "outputs": [],
   "source": [
    "#Conteo de Datos atipicos\n",
    "\n",
    "#nivel_minimo=100000\n",
    "#nivel_maximo=500000\n",
    "#Total_Atipicos=((Datos['Selling_Price']<nivel_minimo)|(Datos['Selling_Price']>nivel_maximo)).sum()\n",
    "#print(\"El total de datos atipicos es {}\".format(Total_Atipicos))\n",
    "\n",
    "# Detectar datos atipicos en Selling_Price\n",
    "Q1 = Datos['Selling_Price'].quantile(0.25)\n",
    "Q3 = Datos['Selling_Price'].quantile(0.75)\n",
    "IQR = Q3 - Q1\n",
    "lower_bound = Q1 - 1.5 * IQR\n",
    "upper_bound = Q3 + 1.5 * IQR"
   ]
  },
  {
   "cell_type": "code",
   "execution_count": 435,
   "id": "6219ec51-4dc6-4ece-9056-bef215351ad6",
   "metadata": {},
   "outputs": [],
   "source": [
    "#Filtrar los datos Atipicos\n",
    "\n",
    "#Datos=Datos[(Datos['Selling_Price']<nivel_maximo)&(Datos['Selling_Price']>nivel_minimo)]\n",
    "\n",
    "Datos_filtered = Datos[(Datos['Selling_Price'] >= lower_bound) & (Datos['Selling_Price'] <= upper_bound)]\n",
    "if len(Datos_filtered) >= 10:\n",
    "    Datos_clean = Datos_filtered.copy()\n",
    "else:\n",
    "    Datos_clean = Datos.copy()\n",
    "    print(\"Advertencia: pocos datos después del filtrado. Se usarán todos los datos sin remover outliers.\")"
   ]
  },
  {
   "cell_type": "code",
   "execution_count": 436,
   "id": "cd9d7f7a-88eb-4972-b142-72d705a16c13",
   "metadata": {},
   "outputs": [],
   "source": [
    "# Filtrar atipicos\n",
    "#Datos_clean = Datos[(Datos['Selling_Price'] >= lower_bound) & (Datos['Selling_Price'] <= upper_bound)].copy()"
   ]
  },
  {
   "cell_type": "code",
   "execution_count": 437,
   "id": "706bc6b7-dd8e-4f72-a050-c9e4375efb17",
   "metadata": {},
   "outputs": [],
   "source": [
    "#Validar si se removieron los datos atipicos\n",
    "\n",
    "#Total_Atipicos=((Datos['Selling_Price']<nivel_minimo)|(Datos['Selling_Price']>nivel_maximo)).sum()\n",
    "#print(\"El total de datos atipicos es {}\".format(Total_Atipicos))"
   ]
  },
  {
   "cell_type": "code",
   "execution_count": 438,
   "id": "2d729991-3dc3-4172-ad25-8ce502e90826",
   "metadata": {},
   "outputs": [
    {
     "name": "stdout",
     "output_type": "stream",
     "text": [
      "3. Seleccionar las caracteristicas más relevantes para entrenar el modelo utilizando seleccion de caracteristicas.\n"
     ]
    }
   ],
   "source": [
    "print (\"3. Seleccionar las caracteristicas más relevantes para entrenar el modelo utilizando seleccion de caracteristicas.\")"
   ]
  },
  {
   "cell_type": "code",
   "execution_count": 439,
   "id": "751788dd-5d0d-4f8d-9c0e-bd1268641f3b",
   "metadata": {},
   "outputs": [
    {
     "name": "stdout",
     "output_type": "stream",
     "text": [
      "Caracteristicas de Interes\n",
      "Vehiculo: Si tiene un precio alto o bajo (0=precio bajo - 1=precio alto)\n",
      "Preediccion de Precios\n"
     ]
    }
   ],
   "source": [
    "print (\"Caracteristicas de Interes\")\n",
    "\n",
    "print (\"Vehiculo: Si tiene un precio alto o bajo (0=precio bajo - 1=precio alto)\")\n",
    "print (\"Preediccion de Precios\")"
   ]
  },
  {
   "cell_type": "code",
   "execution_count": 440,
   "id": "32972d26-c7a1-48cb-a960-486261787a92",
   "metadata": {},
   "outputs": [],
   "source": [
    "#Total de vehiculos con precio alto\n",
    "\n",
    "#Datos['Selling_Price'].value_counts()"
   ]
  },
  {
   "cell_type": "code",
   "execution_count": 441,
   "id": "e432eaa5-c280-4765-ba15-a5e336508cc1",
   "metadata": {},
   "outputs": [
    {
     "name": "stdout",
     "output_type": "stream",
     "text": [
      "4. Dividir el dataset en Train y Test para evaluar correctamente el modelo.\n"
     ]
    }
   ],
   "source": [
    "print (\"4. Dividir el dataset en Train y Test para evaluar correctamente el modelo.\")"
   ]
  },
  {
   "cell_type": "code",
   "execution_count": 442,
   "id": "d13bacd0-e107-4da9-9329-5ec57bc0d249",
   "metadata": {},
   "outputs": [],
   "source": [
    "# Convertir las variables categóricas en variables dummy (One-Hot Encoding)\n",
    "\n",
    "label_encoders = {}\n",
    "for col in ['Fuel_Type', 'Seller_Type', 'Transmission']:\n",
    "    le = LabelEncoder()\n",
    "    Datos_clean[col] = le.fit_transform(Datos_clean[col])\n",
    "    label_encoders[col] = le"
   ]
  },
  {
   "cell_type": "code",
   "execution_count": 443,
   "id": "cfe353f0-3f02-45d5-bd3d-043a2116c89c",
   "metadata": {},
   "outputs": [
    {
     "data": {
      "text/plain": [
       "((284, 7), (284,))"
      ]
     },
     "execution_count": 443,
     "metadata": {},
     "output_type": "execute_result"
    }
   ],
   "source": [
    "# Variables dependientes y objetivo\n",
    "X = Datos_clean.drop(['Car_Name', 'Selling_Price'], axis=1)\n",
    "y = (Datos_clean['Selling_Price'] > Datos_clean['Selling_Price'].median()).astype(int)\n",
    "\n",
    "# Ver forma de los datos\n",
    "X.shape, y.shape"
   ]
  },
  {
   "cell_type": "code",
   "execution_count": 444,
   "id": "6c9ae9cf-fb4c-4f52-88c7-57d56317fc0a",
   "metadata": {},
   "outputs": [],
   "source": [
    "# Verificar que haya al menos una muestra por clase\n",
    "y_counts = y.value_counts()\n",
    "if len(y_counts) < 2 or y_counts.min() < 2:\n",
    "    print (\"No hay suficientes ejemplos en ambas clases para entrenar un modelo confiable.\")"
   ]
  },
  {
   "cell_type": "code",
   "execution_count": 445,
   "id": "a80e222d-a941-4c90-8050-49f99a5d2e1b",
   "metadata": {},
   "outputs": [],
   "source": [
    "# Ajustar dinámicamente test_size si hay pocos datos\n",
    "total_samples = len(X)\n",
    "min_train = 2\n",
    "min_test = 2\n",
    "if total_samples < (min_train + min_test):\n",
    "    raise ValueError(\"No hay suficientes datos para entrenar y probar el modelo.\")\n",
    "\n",
    "dynamic_test_size = max(min_test / total_samples, 0.3)\n",
    "\n",
    "try:\n",
    "    X_train, X_test, y_train, y_test = train_test_split(\n",
    "        X, y, test_size=dynamic_test_size, random_state=42, stratify=y if y_counts.min() > 1 else None\n",
    "    )\n",
    "except ValueError as e:\n",
    "    print(\"Error al dividir los datos:\", e)\n",
    "    print(\"Usando división sin estratificación.\")\n",
    "    X_train, X_test, y_train, y_test = train_test_split(\n",
    "        X, y, test_size=dynamic_test_size, random_state=42, stratify=None\n",
    "    )"
   ]
  },
  {
   "cell_type": "code",
   "execution_count": 446,
   "id": "3ac68b82-b126-4996-85f6-a120ecc742f3",
   "metadata": {},
   "outputs": [],
   "source": [
    "# Pipeline de regresión logística\n",
    "pipeline = Pipeline([\n",
    "    ('scaler', StandardScaler()),\n",
    "    ('logreg', LogisticRegression(C=1.0, penalty='l2', solver='liblinear', random_state=42))\n",
    "])"
   ]
  },
  {
   "cell_type": "code",
   "execution_count": 447,
   "id": "90e41d9d-6c52-458f-bb97-d3c46b13bf97",
   "metadata": {},
   "outputs": [
    {
     "name": "stdout",
     "output_type": "stream",
     "text": [
      "5. Entrenar el modelo configurando los diferentes hiperparametros.\n"
     ]
    }
   ],
   "source": [
    "print (\"5. Entrenar el modelo configurando los diferentes hiperparametros.\")"
   ]
  },
  {
   "cell_type": "code",
   "execution_count": 448,
   "id": "5df1b04c-9c78-425a-a0f1-b7c7bfc08f80",
   "metadata": {},
   "outputs": [
    {
     "data": {
      "text/html": [
       "<style>#sk-container-id-4 {\n",
       "  /* Definition of color scheme common for light and dark mode */\n",
       "  --sklearn-color-text: black;\n",
       "  --sklearn-color-line: gray;\n",
       "  /* Definition of color scheme for unfitted estimators */\n",
       "  --sklearn-color-unfitted-level-0: #fff5e6;\n",
       "  --sklearn-color-unfitted-level-1: #f6e4d2;\n",
       "  --sklearn-color-unfitted-level-2: #ffe0b3;\n",
       "  --sklearn-color-unfitted-level-3: chocolate;\n",
       "  /* Definition of color scheme for fitted estimators */\n",
       "  --sklearn-color-fitted-level-0: #f0f8ff;\n",
       "  --sklearn-color-fitted-level-1: #d4ebff;\n",
       "  --sklearn-color-fitted-level-2: #b3dbfd;\n",
       "  --sklearn-color-fitted-level-3: cornflowerblue;\n",
       "\n",
       "  /* Specific color for light theme */\n",
       "  --sklearn-color-text-on-default-background: var(--sg-text-color, var(--theme-code-foreground, var(--jp-content-font-color1, black)));\n",
       "  --sklearn-color-background: var(--sg-background-color, var(--theme-background, var(--jp-layout-color0, white)));\n",
       "  --sklearn-color-border-box: var(--sg-text-color, var(--theme-code-foreground, var(--jp-content-font-color1, black)));\n",
       "  --sklearn-color-icon: #696969;\n",
       "\n",
       "  @media (prefers-color-scheme: dark) {\n",
       "    /* Redefinition of color scheme for dark theme */\n",
       "    --sklearn-color-text-on-default-background: var(--sg-text-color, var(--theme-code-foreground, var(--jp-content-font-color1, white)));\n",
       "    --sklearn-color-background: var(--sg-background-color, var(--theme-background, var(--jp-layout-color0, #111)));\n",
       "    --sklearn-color-border-box: var(--sg-text-color, var(--theme-code-foreground, var(--jp-content-font-color1, white)));\n",
       "    --sklearn-color-icon: #878787;\n",
       "  }\n",
       "}\n",
       "\n",
       "#sk-container-id-4 {\n",
       "  color: var(--sklearn-color-text);\n",
       "}\n",
       "\n",
       "#sk-container-id-4 pre {\n",
       "  padding: 0;\n",
       "}\n",
       "\n",
       "#sk-container-id-4 input.sk-hidden--visually {\n",
       "  border: 0;\n",
       "  clip: rect(1px 1px 1px 1px);\n",
       "  clip: rect(1px, 1px, 1px, 1px);\n",
       "  height: 1px;\n",
       "  margin: -1px;\n",
       "  overflow: hidden;\n",
       "  padding: 0;\n",
       "  position: absolute;\n",
       "  width: 1px;\n",
       "}\n",
       "\n",
       "#sk-container-id-4 div.sk-dashed-wrapped {\n",
       "  border: 1px dashed var(--sklearn-color-line);\n",
       "  margin: 0 0.4em 0.5em 0.4em;\n",
       "  box-sizing: border-box;\n",
       "  padding-bottom: 0.4em;\n",
       "  background-color: var(--sklearn-color-background);\n",
       "}\n",
       "\n",
       "#sk-container-id-4 div.sk-container {\n",
       "  /* jupyter's `normalize.less` sets `[hidden] { display: none; }`\n",
       "     but bootstrap.min.css set `[hidden] { display: none !important; }`\n",
       "     so we also need the `!important` here to be able to override the\n",
       "     default hidden behavior on the sphinx rendered scikit-learn.org.\n",
       "     See: https://github.com/scikit-learn/scikit-learn/issues/21755 */\n",
       "  display: inline-block !important;\n",
       "  position: relative;\n",
       "}\n",
       "\n",
       "#sk-container-id-4 div.sk-text-repr-fallback {\n",
       "  display: none;\n",
       "}\n",
       "\n",
       "div.sk-parallel-item,\n",
       "div.sk-serial,\n",
       "div.sk-item {\n",
       "  /* draw centered vertical line to link estimators */\n",
       "  background-image: linear-gradient(var(--sklearn-color-text-on-default-background), var(--sklearn-color-text-on-default-background));\n",
       "  background-size: 2px 100%;\n",
       "  background-repeat: no-repeat;\n",
       "  background-position: center center;\n",
       "}\n",
       "\n",
       "/* Parallel-specific style estimator block */\n",
       "\n",
       "#sk-container-id-4 div.sk-parallel-item::after {\n",
       "  content: \"\";\n",
       "  width: 100%;\n",
       "  border-bottom: 2px solid var(--sklearn-color-text-on-default-background);\n",
       "  flex-grow: 1;\n",
       "}\n",
       "\n",
       "#sk-container-id-4 div.sk-parallel {\n",
       "  display: flex;\n",
       "  align-items: stretch;\n",
       "  justify-content: center;\n",
       "  background-color: var(--sklearn-color-background);\n",
       "  position: relative;\n",
       "}\n",
       "\n",
       "#sk-container-id-4 div.sk-parallel-item {\n",
       "  display: flex;\n",
       "  flex-direction: column;\n",
       "}\n",
       "\n",
       "#sk-container-id-4 div.sk-parallel-item:first-child::after {\n",
       "  align-self: flex-end;\n",
       "  width: 50%;\n",
       "}\n",
       "\n",
       "#sk-container-id-4 div.sk-parallel-item:last-child::after {\n",
       "  align-self: flex-start;\n",
       "  width: 50%;\n",
       "}\n",
       "\n",
       "#sk-container-id-4 div.sk-parallel-item:only-child::after {\n",
       "  width: 0;\n",
       "}\n",
       "\n",
       "/* Serial-specific style estimator block */\n",
       "\n",
       "#sk-container-id-4 div.sk-serial {\n",
       "  display: flex;\n",
       "  flex-direction: column;\n",
       "  align-items: center;\n",
       "  background-color: var(--sklearn-color-background);\n",
       "  padding-right: 1em;\n",
       "  padding-left: 1em;\n",
       "}\n",
       "\n",
       "\n",
       "/* Toggleable style: style used for estimator/Pipeline/ColumnTransformer box that is\n",
       "clickable and can be expanded/collapsed.\n",
       "- Pipeline and ColumnTransformer use this feature and define the default style\n",
       "- Estimators will overwrite some part of the style using the `sk-estimator` class\n",
       "*/\n",
       "\n",
       "/* Pipeline and ColumnTransformer style (default) */\n",
       "\n",
       "#sk-container-id-4 div.sk-toggleable {\n",
       "  /* Default theme specific background. It is overwritten whether we have a\n",
       "  specific estimator or a Pipeline/ColumnTransformer */\n",
       "  background-color: var(--sklearn-color-background);\n",
       "}\n",
       "\n",
       "/* Toggleable label */\n",
       "#sk-container-id-4 label.sk-toggleable__label {\n",
       "  cursor: pointer;\n",
       "  display: block;\n",
       "  width: 100%;\n",
       "  margin-bottom: 0;\n",
       "  padding: 0.5em;\n",
       "  box-sizing: border-box;\n",
       "  text-align: center;\n",
       "}\n",
       "\n",
       "#sk-container-id-4 label.sk-toggleable__label-arrow:before {\n",
       "  /* Arrow on the left of the label */\n",
       "  content: \"▸\";\n",
       "  float: left;\n",
       "  margin-right: 0.25em;\n",
       "  color: var(--sklearn-color-icon);\n",
       "}\n",
       "\n",
       "#sk-container-id-4 label.sk-toggleable__label-arrow:hover:before {\n",
       "  color: var(--sklearn-color-text);\n",
       "}\n",
       "\n",
       "/* Toggleable content - dropdown */\n",
       "\n",
       "#sk-container-id-4 div.sk-toggleable__content {\n",
       "  max-height: 0;\n",
       "  max-width: 0;\n",
       "  overflow: hidden;\n",
       "  text-align: left;\n",
       "  /* unfitted */\n",
       "  background-color: var(--sklearn-color-unfitted-level-0);\n",
       "}\n",
       "\n",
       "#sk-container-id-4 div.sk-toggleable__content.fitted {\n",
       "  /* fitted */\n",
       "  background-color: var(--sklearn-color-fitted-level-0);\n",
       "}\n",
       "\n",
       "#sk-container-id-4 div.sk-toggleable__content pre {\n",
       "  margin: 0.2em;\n",
       "  border-radius: 0.25em;\n",
       "  color: var(--sklearn-color-text);\n",
       "  /* unfitted */\n",
       "  background-color: var(--sklearn-color-unfitted-level-0);\n",
       "}\n",
       "\n",
       "#sk-container-id-4 div.sk-toggleable__content.fitted pre {\n",
       "  /* unfitted */\n",
       "  background-color: var(--sklearn-color-fitted-level-0);\n",
       "}\n",
       "\n",
       "#sk-container-id-4 input.sk-toggleable__control:checked~div.sk-toggleable__content {\n",
       "  /* Expand drop-down */\n",
       "  max-height: 200px;\n",
       "  max-width: 100%;\n",
       "  overflow: auto;\n",
       "}\n",
       "\n",
       "#sk-container-id-4 input.sk-toggleable__control:checked~label.sk-toggleable__label-arrow:before {\n",
       "  content: \"▾\";\n",
       "}\n",
       "\n",
       "/* Pipeline/ColumnTransformer-specific style */\n",
       "\n",
       "#sk-container-id-4 div.sk-label input.sk-toggleable__control:checked~label.sk-toggleable__label {\n",
       "  color: var(--sklearn-color-text);\n",
       "  background-color: var(--sklearn-color-unfitted-level-2);\n",
       "}\n",
       "\n",
       "#sk-container-id-4 div.sk-label.fitted input.sk-toggleable__control:checked~label.sk-toggleable__label {\n",
       "  background-color: var(--sklearn-color-fitted-level-2);\n",
       "}\n",
       "\n",
       "/* Estimator-specific style */\n",
       "\n",
       "/* Colorize estimator box */\n",
       "#sk-container-id-4 div.sk-estimator input.sk-toggleable__control:checked~label.sk-toggleable__label {\n",
       "  /* unfitted */\n",
       "  background-color: var(--sklearn-color-unfitted-level-2);\n",
       "}\n",
       "\n",
       "#sk-container-id-4 div.sk-estimator.fitted input.sk-toggleable__control:checked~label.sk-toggleable__label {\n",
       "  /* fitted */\n",
       "  background-color: var(--sklearn-color-fitted-level-2);\n",
       "}\n",
       "\n",
       "#sk-container-id-4 div.sk-label label.sk-toggleable__label,\n",
       "#sk-container-id-4 div.sk-label label {\n",
       "  /* The background is the default theme color */\n",
       "  color: var(--sklearn-color-text-on-default-background);\n",
       "}\n",
       "\n",
       "/* On hover, darken the color of the background */\n",
       "#sk-container-id-4 div.sk-label:hover label.sk-toggleable__label {\n",
       "  color: var(--sklearn-color-text);\n",
       "  background-color: var(--sklearn-color-unfitted-level-2);\n",
       "}\n",
       "\n",
       "/* Label box, darken color on hover, fitted */\n",
       "#sk-container-id-4 div.sk-label.fitted:hover label.sk-toggleable__label.fitted {\n",
       "  color: var(--sklearn-color-text);\n",
       "  background-color: var(--sklearn-color-fitted-level-2);\n",
       "}\n",
       "\n",
       "/* Estimator label */\n",
       "\n",
       "#sk-container-id-4 div.sk-label label {\n",
       "  font-family: monospace;\n",
       "  font-weight: bold;\n",
       "  display: inline-block;\n",
       "  line-height: 1.2em;\n",
       "}\n",
       "\n",
       "#sk-container-id-4 div.sk-label-container {\n",
       "  text-align: center;\n",
       "}\n",
       "\n",
       "/* Estimator-specific */\n",
       "#sk-container-id-4 div.sk-estimator {\n",
       "  font-family: monospace;\n",
       "  border: 1px dotted var(--sklearn-color-border-box);\n",
       "  border-radius: 0.25em;\n",
       "  box-sizing: border-box;\n",
       "  margin-bottom: 0.5em;\n",
       "  /* unfitted */\n",
       "  background-color: var(--sklearn-color-unfitted-level-0);\n",
       "}\n",
       "\n",
       "#sk-container-id-4 div.sk-estimator.fitted {\n",
       "  /* fitted */\n",
       "  background-color: var(--sklearn-color-fitted-level-0);\n",
       "}\n",
       "\n",
       "/* on hover */\n",
       "#sk-container-id-4 div.sk-estimator:hover {\n",
       "  /* unfitted */\n",
       "  background-color: var(--sklearn-color-unfitted-level-2);\n",
       "}\n",
       "\n",
       "#sk-container-id-4 div.sk-estimator.fitted:hover {\n",
       "  /* fitted */\n",
       "  background-color: var(--sklearn-color-fitted-level-2);\n",
       "}\n",
       "\n",
       "/* Specification for estimator info (e.g. \"i\" and \"?\") */\n",
       "\n",
       "/* Common style for \"i\" and \"?\" */\n",
       "\n",
       ".sk-estimator-doc-link,\n",
       "a:link.sk-estimator-doc-link,\n",
       "a:visited.sk-estimator-doc-link {\n",
       "  float: right;\n",
       "  font-size: smaller;\n",
       "  line-height: 1em;\n",
       "  font-family: monospace;\n",
       "  background-color: var(--sklearn-color-background);\n",
       "  border-radius: 1em;\n",
       "  height: 1em;\n",
       "  width: 1em;\n",
       "  text-decoration: none !important;\n",
       "  margin-left: 1ex;\n",
       "  /* unfitted */\n",
       "  border: var(--sklearn-color-unfitted-level-1) 1pt solid;\n",
       "  color: var(--sklearn-color-unfitted-level-1);\n",
       "}\n",
       "\n",
       ".sk-estimator-doc-link.fitted,\n",
       "a:link.sk-estimator-doc-link.fitted,\n",
       "a:visited.sk-estimator-doc-link.fitted {\n",
       "  /* fitted */\n",
       "  border: var(--sklearn-color-fitted-level-1) 1pt solid;\n",
       "  color: var(--sklearn-color-fitted-level-1);\n",
       "}\n",
       "\n",
       "/* On hover */\n",
       "div.sk-estimator:hover .sk-estimator-doc-link:hover,\n",
       ".sk-estimator-doc-link:hover,\n",
       "div.sk-label-container:hover .sk-estimator-doc-link:hover,\n",
       ".sk-estimator-doc-link:hover {\n",
       "  /* unfitted */\n",
       "  background-color: var(--sklearn-color-unfitted-level-3);\n",
       "  color: var(--sklearn-color-background);\n",
       "  text-decoration: none;\n",
       "}\n",
       "\n",
       "div.sk-estimator.fitted:hover .sk-estimator-doc-link.fitted:hover,\n",
       ".sk-estimator-doc-link.fitted:hover,\n",
       "div.sk-label-container:hover .sk-estimator-doc-link.fitted:hover,\n",
       ".sk-estimator-doc-link.fitted:hover {\n",
       "  /* fitted */\n",
       "  background-color: var(--sklearn-color-fitted-level-3);\n",
       "  color: var(--sklearn-color-background);\n",
       "  text-decoration: none;\n",
       "}\n",
       "\n",
       "/* Span, style for the box shown on hovering the info icon */\n",
       ".sk-estimator-doc-link span {\n",
       "  display: none;\n",
       "  z-index: 9999;\n",
       "  position: relative;\n",
       "  font-weight: normal;\n",
       "  right: .2ex;\n",
       "  padding: .5ex;\n",
       "  margin: .5ex;\n",
       "  width: min-content;\n",
       "  min-width: 20ex;\n",
       "  max-width: 50ex;\n",
       "  color: var(--sklearn-color-text);\n",
       "  box-shadow: 2pt 2pt 4pt #999;\n",
       "  /* unfitted */\n",
       "  background: var(--sklearn-color-unfitted-level-0);\n",
       "  border: .5pt solid var(--sklearn-color-unfitted-level-3);\n",
       "}\n",
       "\n",
       ".sk-estimator-doc-link.fitted span {\n",
       "  /* fitted */\n",
       "  background: var(--sklearn-color-fitted-level-0);\n",
       "  border: var(--sklearn-color-fitted-level-3);\n",
       "}\n",
       "\n",
       ".sk-estimator-doc-link:hover span {\n",
       "  display: block;\n",
       "}\n",
       "\n",
       "/* \"?\"-specific style due to the `<a>` HTML tag */\n",
       "\n",
       "#sk-container-id-4 a.estimator_doc_link {\n",
       "  float: right;\n",
       "  font-size: 1rem;\n",
       "  line-height: 1em;\n",
       "  font-family: monospace;\n",
       "  background-color: var(--sklearn-color-background);\n",
       "  border-radius: 1rem;\n",
       "  height: 1rem;\n",
       "  width: 1rem;\n",
       "  text-decoration: none;\n",
       "  /* unfitted */\n",
       "  color: var(--sklearn-color-unfitted-level-1);\n",
       "  border: var(--sklearn-color-unfitted-level-1) 1pt solid;\n",
       "}\n",
       "\n",
       "#sk-container-id-4 a.estimator_doc_link.fitted {\n",
       "  /* fitted */\n",
       "  border: var(--sklearn-color-fitted-level-1) 1pt solid;\n",
       "  color: var(--sklearn-color-fitted-level-1);\n",
       "}\n",
       "\n",
       "/* On hover */\n",
       "#sk-container-id-4 a.estimator_doc_link:hover {\n",
       "  /* unfitted */\n",
       "  background-color: var(--sklearn-color-unfitted-level-3);\n",
       "  color: var(--sklearn-color-background);\n",
       "  text-decoration: none;\n",
       "}\n",
       "\n",
       "#sk-container-id-4 a.estimator_doc_link.fitted:hover {\n",
       "  /* fitted */\n",
       "  background-color: var(--sklearn-color-fitted-level-3);\n",
       "}\n",
       "</style><div id=\"sk-container-id-4\" class=\"sk-top-container\"><div class=\"sk-text-repr-fallback\"><pre>Pipeline(steps=[(&#x27;scaler&#x27;, StandardScaler()),\n",
       "                (&#x27;logreg&#x27;,\n",
       "                 LogisticRegression(random_state=42, solver=&#x27;liblinear&#x27;))])</pre><b>In a Jupyter environment, please rerun this cell to show the HTML representation or trust the notebook. <br />On GitHub, the HTML representation is unable to render, please try loading this page with nbviewer.org.</b></div><div class=\"sk-container\" hidden><div class=\"sk-item sk-dashed-wrapped\"><div class=\"sk-label-container\"><div class=\"sk-label fitted sk-toggleable\"><input class=\"sk-toggleable__control sk-hidden--visually\" id=\"sk-estimator-id-6\" type=\"checkbox\" ><label for=\"sk-estimator-id-6\" class=\"sk-toggleable__label fitted sk-toggleable__label-arrow fitted\">&nbsp;&nbsp;Pipeline<a class=\"sk-estimator-doc-link fitted\" rel=\"noreferrer\" target=\"_blank\" href=\"https://scikit-learn.org/1.5/modules/generated/sklearn.pipeline.Pipeline.html\">?<span>Documentation for Pipeline</span></a><span class=\"sk-estimator-doc-link fitted\">i<span>Fitted</span></span></label><div class=\"sk-toggleable__content fitted\"><pre>Pipeline(steps=[(&#x27;scaler&#x27;, StandardScaler()),\n",
       "                (&#x27;logreg&#x27;,\n",
       "                 LogisticRegression(random_state=42, solver=&#x27;liblinear&#x27;))])</pre></div> </div></div><div class=\"sk-serial\"><div class=\"sk-item\"><div class=\"sk-estimator fitted sk-toggleable\"><input class=\"sk-toggleable__control sk-hidden--visually\" id=\"sk-estimator-id-7\" type=\"checkbox\" ><label for=\"sk-estimator-id-7\" class=\"sk-toggleable__label fitted sk-toggleable__label-arrow fitted\">&nbsp;StandardScaler<a class=\"sk-estimator-doc-link fitted\" rel=\"noreferrer\" target=\"_blank\" href=\"https://scikit-learn.org/1.5/modules/generated/sklearn.preprocessing.StandardScaler.html\">?<span>Documentation for StandardScaler</span></a></label><div class=\"sk-toggleable__content fitted\"><pre>StandardScaler()</pre></div> </div></div><div class=\"sk-item\"><div class=\"sk-estimator fitted sk-toggleable\"><input class=\"sk-toggleable__control sk-hidden--visually\" id=\"sk-estimator-id-8\" type=\"checkbox\" ><label for=\"sk-estimator-id-8\" class=\"sk-toggleable__label fitted sk-toggleable__label-arrow fitted\">&nbsp;LogisticRegression<a class=\"sk-estimator-doc-link fitted\" rel=\"noreferrer\" target=\"_blank\" href=\"https://scikit-learn.org/1.5/modules/generated/sklearn.linear_model.LogisticRegression.html\">?<span>Documentation for LogisticRegression</span></a></label><div class=\"sk-toggleable__content fitted\"><pre>LogisticRegression(random_state=42, solver=&#x27;liblinear&#x27;)</pre></div> </div></div></div></div></div></div>"
      ],
      "text/plain": [
       "Pipeline(steps=[('scaler', StandardScaler()),\n",
       "                ('logreg',\n",
       "                 LogisticRegression(random_state=42, solver='liblinear'))])"
      ]
     },
     "execution_count": 448,
     "metadata": {},
     "output_type": "execute_result"
    }
   ],
   "source": [
    "pipeline.fit(X_train, y_train)"
   ]
  },
  {
   "cell_type": "code",
   "execution_count": 449,
   "id": "7eb13fe7-5506-43ee-92a4-23a2f63fac24",
   "metadata": {},
   "outputs": [],
   "source": [
    "# Predicción y evaluación\n",
    "y_pred = pipeline.predict(X_test)\n",
    "y_proba = pipeline.predict_proba(X_test)[:, 1]"
   ]
  },
  {
   "cell_type": "code",
   "execution_count": 450,
   "id": "c77cc1b3-639e-4d1d-a3e9-1064ff5fd606",
   "metadata": {},
   "outputs": [
    {
     "name": "stdout",
     "output_type": "stream",
     "text": [
      "6. Evaluar el desempeño del modelo en el conjunto Test con métricas como precisión, recall, F1-score, etc.\n"
     ]
    }
   ],
   "source": [
    "print (\"6. Evaluar el desempeño del modelo en el conjunto Test con métricas como precisión, recall, F1-score, etc.\")"
   ]
  },
  {
   "cell_type": "code",
   "execution_count": 451,
   "id": "2245ef59-9abe-42b2-8ff7-7275c1fad602",
   "metadata": {},
   "outputs": [
    {
     "name": "stdout",
     "output_type": "stream",
     "text": [
      "              precision    recall  f1-score   support\n",
      "\n",
      "           0       1.00      0.88      0.94        43\n",
      "           1       0.90      1.00      0.95        43\n",
      "\n",
      "    accuracy                           0.94        86\n",
      "   macro avg       0.95      0.94      0.94        86\n",
      "weighted avg       0.95      0.94      0.94        86\n",
      "\n"
     ]
    }
   ],
   "source": [
    "# Reporte de métricas\n",
    "print(classification_report(y_test, y_pred))"
   ]
  },
  {
   "cell_type": "code",
   "execution_count": 452,
   "id": "3706bccb-4b63-4b28-9b85-7dac476c82da",
   "metadata": {},
   "outputs": [
    {
     "name": "stdout",
     "output_type": "stream",
     "text": [
      "7. Realizar las diferentes graficas que permitan visualizar los resultados del modelo.\n"
     ]
    }
   ],
   "source": [
    "print (\"7. Realizar las diferentes graficas que permitan visualizar los resultados del modelo.\")"
   ]
  },
  {
   "cell_type": "code",
   "execution_count": 453,
   "id": "01ed88f9-b160-4dba-9f8d-e8e3b73f5d3f",
   "metadata": {},
   "outputs": [
    {
     "data": {
      "image/png": "[encoded data removed]",
      "text/plain": [
       "<Figure size 640x480 with 2 Axes>"
      ]
     },
     "metadata": {},
     "output_type": "display_data"
    }
   ],
   "source": [
    "# Matriz de confusión\n",
    "cm = confusion_matrix(y_test, y_pred)\n",
    "disp = ConfusionMatrixDisplay(confusion_matrix=cm)\n",
    "disp.plot(cmap='Blues')\n",
    "plt.title(\"Matriz de Confusión\")\n",
    "plt.show()"
   ]
  },
  {
   "cell_type": "code",
   "execution_count": 454,
   "id": "3a01ec09-9778-4509-9d7d-c43f9a813229",
   "metadata": {},
   "outputs": [
    {
     "data": {
      "image/png": "[encoded data removed]",
      "text/plain": [
       "<Figure size 600x400 with 1 Axes>"
      ]
     },
     "metadata": {},
     "output_type": "display_data"
    }
   ],
   "source": [
    "# Curva ROC\n",
    "fpr, tpr, thresholds = roc_curve(y_test, y_proba)\n",
    "roc_auc = auc(fpr, tpr)\n",
    "plt.figure(figsize=(6, 4))\n",
    "plt.plot(fpr, tpr, color='darkorange', lw=2, label=f'ROC AUC = {roc_auc:.2f}')\n",
    "plt.plot([0, 1], [0, 1], color='navy', linestyle='--')\n",
    "plt.xlabel('False Positive Rate')\n",
    "plt.ylabel('True Positive Rate')\n",
    "plt.title('Curva ROC')\n",
    "plt.legend(loc='lower right')\n",
    "plt.grid(True)\n",
    "plt.show()"
   ]
  },
  {
   "cell_type": "code",
   "execution_count": 455,
   "id": "f836d256-3ca1-44af-8869-ab595cfcf32a",
   "metadata": {},
   "outputs": [
    {
     "name": "stdout",
     "output_type": "stream",
     "text": [
      "8.Interpretar, análizar y documentar los resultados obtenidos.\n"
     ]
    }
   ],
   "source": [
    "print (\"8.Interpretar, análizar y documentar los resultados obtenidos.\")"
   ]
  },
  {
   "cell_type": "code",
   "execution_count": 457,
   "id": "46843892-1083-4e53-a866-5f8697956486",
   "metadata": {},
   "outputs": [
    {
     "name": "stdout",
     "output_type": "stream",
     "text": [
      "\n",
      "- El modelo de regresión logística fue entrenado con un conjunto reducido de datos luego de eliminar los datos atipicos.\n",
      "- Las métricas de precisión, recall y F1-score indican qué tan bien el modelo clasifica los vehículos según si su precio está por encima o debajo de la mediana.\n",
      "- La matriz de confusión muestra el número de aciertos y errores:\n",
      "    - Verdaderos Positivos (TP): casos correctamente clasificados como \"precio alto\".\n",
      "    - Falsos Positivos (FP): casos que en realidad eran \"precio bajo\" pero se clasificaron como \"alto\".\n",
      "    - Verdaderos Negativos (TN): casos correctamente clasificados como \"precio bajo\".\n",
      "    - Falsos Negativos (FN): casos que eran \"precio alto\" pero el modelo predijo \"bajo\".\n",
      "- La curva ROC y el AUC muestran la capacidad de discriminación del modelo. Un AUC cercano a 1 indica buen rendimiento.\n",
      "\n"
     ]
    }
   ],
   "source": [
    "# Interpretación y análisis de resultados\n",
    "print(\"\"\"\n",
    "- El modelo de regresión logística fue entrenado con un conjunto reducido de datos luego de eliminar los datos atipicos.\n",
    "- Las métricas de precisión, recall y F1-score indican qué tan bien el modelo clasifica los vehículos según si su precio está por encima o debajo de la mediana.\n",
    "- La matriz de confusión muestra el número de aciertos y errores:\n",
    "    - Verdaderos Positivos (TP): casos correctamente clasificados como \"precio alto\".\n",
    "    - Falsos Positivos (FP): casos que en realidad eran \"precio bajo\" pero se clasificaron como \"alto\".\n",
    "    - Verdaderos Negativos (TN): casos correctamente clasificados como \"precio bajo\".\n",
    "    - Falsos Negativos (FN): casos que eran \"precio alto\" pero el modelo predijo \"bajo\".\n",
    "- La curva ROC y el AUC muestran la capacidad de discriminación del modelo. Un AUC cercano a 1 indica buen rendimiento.\n",
    "\"\"\")"
   ]
  }
 ],
 "metadata": {
  "kernelspec": {
   "display_name": "Python 3 (ipykernel)",
   "language": "python",
   "name": "python3"
  },
  "language_info": {
   "codemirror_mode": {
    "name": "ipython",
    "version": 3
   },
   "file_extension": ".py",
   "mimetype": "text/x-python",
   "name": "python",
   "nbconvert_exporter": "python",
   "pygments_lexer": "ipython3",
   "version": "3.12.7"
  }
 },
 "nbformat": 4,
 "nbformat_minor": 5
}
